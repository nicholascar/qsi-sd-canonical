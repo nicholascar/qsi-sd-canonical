{
 "cells": [
  {
   "cell_type": "markdown",
   "metadata": {},
   "source": [
    "# Queensland Spatial Information Canonical Examples Scenario Demonstrator\n",
    "## For the [FrontierSI](https://frontiersi.com.au) Queensland Land Information Project\n",
    "### By Nicholas J. Car\n",
    "\n",
    "## 1. Introduction\n",
    "\n",
    "This Workbook is a _Scenario Demonstrator_ for the _QSI Cadastre Address Project_. It lists some of that project's Requirements and shows how the models proposed for it cater for them.\n",
    "\n",
    "The goal of this Scenario Demonstrator is not to implement Canonical Examples and tests for _all_ Requirements but just enough to indicate the likely viability of the models as per Requirements.\n",
    "\n",
    "It shows model skipp per Requirements by presenting _Canonical Examples_ which are data files stored in this Notebook's repository, made according to the project models and then showing validation of and queries against those examples.\n",
    "\n",
    "The project models are documented within the [Queensland Land Information Supermodel](https://nicholascar.com/qli-supermodel/supermodel.html) and the Canonical Example data files are named according to the Requirements they are for and stored in the [canonical-examples/ folder](https://github.com/nicholascar/qsi-sd-canonical/tree/master/canonical-examples).\n",
    "\n",
    "### 1.1 Canonical Examples data format\n",
    "The Canonical Examples data is [RDF](https://www.w3.org/RDF/) data, that is data made according to a conceptual model used to create [_Knowledge Graphs_](https://ai.stanford.edu/blog/introduction-to-knowledge-graphs/) which are data models of nodes representing ideas connected by edges of defined relationships.\n",
    "\n",
    "RDF data is system-independent - it can be stored and used in many different systems - but it is validatable and queryable too, using a standard query language called [SPARQL](https://www.w3.org/TR/sparql11-query/) which is similar to SQL, but for graphs.\n",
    "\n",
    "### 1.2 Executable Workbook\n",
    "\n",
    "This Workbook is a piece of documented code that can be run online, in a browser, step-by-step, without the runner having to install anything. The code sections you see below can be run, results seen, altered and then re-run, to allow users to really get to gripps with the data, queries and so on. Please feel free to experiment: changes are not stored, so you can't really break anything!\n",
    "\n",
    "### 1.2 Initial Requirement Explained\n",
    "\n",
    "The first Requirement demonstrated here, A18 in Section 2.1, is explained in more detail than subsequent Requirements to ensure all details of the technical implementation are understood.\n",
    "\n",
    "## 2. Requirements\n",
    "\n",
    "### 2.1 Req. A18\n",
    "\n",
    "#### 2.1.1 Context\n",
    "Requirement A18 is an Address Requirement with the following details (from the _QSI Cadastre Address Requirements_ list):\n",
    "\n",
    "**ID** | **Statement** | **Relevant Model Elements** | **Canonical Examples** | **Scenario Demonstrator**\n",
    "--- | --- | --- | --- | ---\n",
    "A18 | Ideally entities as address components that are maintained elsewhere e.g. locality (and Local Government Area even though this isn't part of an official address string) should be linked to rather than repeated in the addressing database. | Address Model, Overarching Model | R18-v01, R18-i01, R18-i02 | Notebook SD01, EG01\n",
    "\n",
    "This Requirement requires two models to be satisfied:\n",
    "\n",
    "1. [Address Model](https://nicholascar.com/anz-nat-addr-model-candidate/model.html) - to ensure an Address object has the properties required\n",
    "2. QLI Supermodel's [Overarching Model](https://nicholascar.com/qli-supermodel/supermodel.html#_overarching_model) - since the \"...entities...maintained elsewhere e.g. locality...\" are objects for which there is no Supermodel Component Model but for which the Overarching Model has a generic slot\n",
    "\n",
    "By exercising a link between the Address Model and the Administrative Areas model, this example also implicitly relies on the Overarching Model of the Supermodel, but this is a background concern and not specifically called out here.\n",
    "\n",
    "The Address Model contains an `Address` class and a property for it to indicate `AddressComponent` class instances which is `hasAddressComponent`. `AddressComponent` objects then contain a `hasComponentType`, a `hasValue`  and `hasValueText` properties, see the [`AddressComponent` class documentation](https://nicholascar.com/anz-nat-addr-model-candidate/model.html#AddressComponent).\n",
    "\n",
    "The Overarching Model contains an `AdministrativeArea` class which will be what the Supermodel considers Localities and other such entities to be. Instances of this class will have identifiers that are IRIs - data web addresses.\n",
    "\n",
    "#### 2.1.2 Demonstration Method\n",
    "\n",
    "Can data be formulated according to the various models, some of is does and some of which is valid according Requirement A18? Are such datum able to be tested to prove validity or invalidity?\n",
    "\n",
    "The Address Model [has a validator](http://w3id.org/profile/anz-address/validator) which has a validation Shape, that is a graph data test function, that can demonstrate that the model meets this Requirement:\n",
    "\n",
    "```turtle\n",
    "<sh-02>\n",
    "\ta sh:NodeShape ;\n",
    "\tsh:targetObjectsOf addr:hasAddressComponent ; # addr:AddressComponent instances\n",
    "\tsh:sparql [\n",
    "\t\ta sh:SPARQLConstraint ;\n",
    "\t\tsh:message \"The hasValue property of an AddressComponent with addressComponentType isov1:locality must indicate an IRI (of a Concept from a vocabulary), not text\" ;\n",
    "\t\tsh:prefixes addr: ;\n",
    "\t\tsh:select \"\"\"\n",
    "\t\t\tSELECT $this ?value\n",
    "\t\t\tWHERE {\n",
    "                $this addr:hasComponentType isov1:locality .\n",
    "                $this addr:hasValue ?value .\n",
    "                FILTER (!isIRI(?value))\n",
    "\t\t\t}\n",
    "\t\t\t\"\"\" ;\n",
    "\t] ;\n",
    ".\n",
    "```\n",
    "\n",
    "This Shape checks that each instance of `AddressComponent` that is of type `locality` (according to [an extended version of ISO's Address Component Types Vocabulary](https://nicholascar.com/anz-nat-addr-model-candidate/model.html#_address_component_type_vocabulary)) has a value that is an IRI - a web address - and not a numerical or textual value.\n",
    "\n",
    "Separately to this validator, a mapping between validator Shapes and Requirements is maintained within [the QLI Supermodel's listing of Requirements](https://nicholascar.com/qli-supermodel/requirements.html#_model_mappings)\n",
    "\n",
    "Canonical Examples of system-independent data that does and does not conform to this Shape are presented within this Scenario Demonstrator:\n",
    "\n",
    "* A18-01-v.ttl - valid example 01\n",
    "* A18-02-i.ttl - invalid example 02\n",
    "\n",
    "The graph validation tool [pySHAC](https://github.com/RDFLib/pySHACL) can be run using the Address Model validator and each example as input and the results should be valid (01) and invalid (02) as expected.\n",
    "\n",
    "#### 2.1.3 Demonstration Steps\n",
    "\n",
    "##### 1. show example data (just for visual review)"
   ]
  },
  {
   "cell_type": "code",
   "source": [
    "from rdflib import Graph\n",
    "g = Graph().parse(\"canonical-examples/A18-01-v.ttl\")\n",
    "print(g.serialize())"
   ],
   "metadata": {
    "collapsed": false,
    "pycharm": {
     "name": "#%%\n"
    }
   },
   "execution_count": null,
   "outputs": []
  },
  {
   "cell_type": "markdown",
   "source": [
    "_Note the components \"20\", \"Oxford\", \"Place\" & example LGA `<http://example.com/lga/1234>`_\n",
    "\n",
    "##### 2. load validator tool, pySHACL"
   ],
   "metadata": {
    "collapsed": false,
    "pycharm": {
     "name": "#%% md\n"
    }
   }
  },
  {
   "cell_type": "code",
   "source": [
    "from pyshacl import validate"
   ],
   "metadata": {
    "collapsed": false,
    "pycharm": {
     "name": "#%%\n"
    }
   },
   "execution_count": null,
   "outputs": []
  },
  {
   "cell_type": "markdown",
   "source": [
    "##### 3. validate 01 - expect True"
   ],
   "metadata": {
    "collapsed": false
   }
  },
  {
   "cell_type": "code",
   "execution_count": null,
   "outputs": [],
   "source": [
    "v1 = validate(\"canonical-examples/A18-01-v.ttl\", shacl_graph=\"validators/addr.shacl.ttl\")\n",
    "\n",
    "if v1[0]:\n",
    "    print(\"A18-01-v is valid, as expected\")\n",
    "else:\n",
    "    print(\"ERROR: A18-01-v is unexpectedly invalid\")"
   ],
   "metadata": {
    "collapsed": false,
    "pycharm": {
     "name": "#%%\n"
    }
   }
  },
  {
   "cell_type": "markdown",
   "source": [
    "##### 4. validate 02 - expect False"
   ],
   "metadata": {
    "collapsed": false
   }
  },
  {
   "cell_type": "code",
   "execution_count": null,
   "outputs": [],
   "source": [
    "v2 = validate(\"canonical-examples/A18-02-i.ttl\", shacl_graph=\"validators/addr.shacl.ttl\")\n",
    "\n",
    "if not v2[0]:\n",
    "    print(\"A18-02-i is invalid, as expected\")\n",
    "    print(\"The error message from the validator is:\")\n",
    "    print()\n",
    "    print(v2[2])\n",
    "else:\n",
    "    print(\"ERROR: A18-02-i is unexpectedly valid\")"
   ],
   "metadata": {
    "collapsed": false,
    "pycharm": {
     "name": "#%%\n"
    }
   }
  },
  {
   "cell_type": "markdown",
   "source": [],
   "metadata": {
    "collapsed": false,
    "pycharm": {
     "name": "#%% md\n"
    }
   }
  }
 ],
 "metadata": {
  "kernelspec": {
   "display_name": "Python 3 (ipykernel)",
   "language": "python",
   "name": "python3"
  },
  "language_info": {
   "codemirror_mode": {
    "name": "ipython",
    "version": 3
   },
   "file_extension": ".py",
   "mimetype": "text/x-python",
   "name": "python",
   "nbconvert_exporter": "python",
   "pygments_lexer": "ipython3",
   "version": "3.9.10"
  }
 },
 "nbformat": 4,
 "nbformat_minor": 1
}