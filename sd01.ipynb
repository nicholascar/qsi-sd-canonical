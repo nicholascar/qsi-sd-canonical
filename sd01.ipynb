{
 "cells": [
  {
   "cell_type": "markdown",
   "metadata": {},
   "source": [
    "# Queensland Spatial Information Canonical Examples Scenario Demonstrator\n",
    "## For the [FrontierSI](https://frontiersi.com.au) Queensland Land Information Project\n",
    "### By Nicholas J. Car\n",
    "\n",
    "## 1. Introduction\n",
    "\n",
    "This Workbook is a _Scenario Demonstrator_ for the _QSI Cadastre Address Project_. It lists some of that project's Requirements and shows how the models proposed for it cater for them.\n",
    "\n",
    "The goal of this Scenario Demonstrator is not to implement Canonical Examples and tests for _all_ Requirements but just enough to indicate the likely viability of the models as per Requirements.\n",
    "\n",
    "It shows model skipp per Requirements by presenting _Canonical Examples_ which are data files stored in this Notebook's repository, made according to the project models and then showing validation of and queries against those examples.\n",
    "\n",
    "The project models are documented within the [Queensland Land Information Supermodel](https://nicholascar.com/qli-supermodel/supermodel.html) and the Canonical Example data files are named according to the Requirements they are for and stored in the [canonical-examples/ folder](https://github.com/nicholascar/qsi-sd-canonical/tree/master/canonical-examples).\n",
    "\n",
    "### 1.1 Executable Workbook\n",
    "\n",
    "This Workbook is a piece of documented Python code that can be run online, in a browser, step-by-step, without the user having to install anything. The code sections you see below can be run, results seen, altered and then re-run, to allow users to really get to grips with the data, queries and so on. Please feel free to experiment: changes are not stored, so you can't really break anything!\n",
    "\n",
    "### 1.2 Canonical Examples data format\n",
    "The Canonical Examples data is [RDF](https://www.w3.org/RDF/) data, that is data made according to a conceptual model used to create [_Knowledge Graphs_](https://www.ontotext.com/knowledgehub/fundamentals/what-is-a-knowledge-graph/) which are data models of nodes representing ideas connected by edges of defined relationships.\n",
    "\n",
    "RDF data is system-independent - it can be stored and used in many different systems - but it is validatable and queryable too, using a standard query language called [SPARQL](https://www.w3.org/TR/sparql11-query/) which is similar to SQL, but for graphs.\n",
    "\n",
    "### 1.3 Validators & Validation\n",
    "\n",
    "Validators provided with all the models in this project are used here to show what canonical examples do and do not conform to the models. the validators are written using the [SHACL](https://www.w3.org/TR/shacl/) constraints language and are executable in this workbook by use of the [pySHACL](https://pypi.org/project/pyshacl/) tool.\n",
    "\n",
    "Validators are also data files with individual constraint checks implemented as _Shapes_ which are that is a graph pattern test functions. Pretty much anything in graph data van be validated using a Shape. Shapes and Requirements are not necessarily 1:1, so Requirements might list multiple Shapes needed to assure their handing in data.\n",
    "\n",
    "The validator, Canonical Example data and background models are all added to a call to the tool and results - true/false valid and if invalid, details - are able to be printed.\n",
    "\n",
    "### 1.4 Queries\n",
    "\n",
    "SPARQL queries can be run against Canonical Examples by loading the example files and using the [rdflib](https://pypi.org/project/rdflib/) tool to pose queries and return results for printing.\n",
    "\n",
    "### 1.5 Initial Requirement Explained\n",
    "\n",
    "The first Requirement demonstrated here, A18 in Section 2.1, is explained in more detail than subsequent Requirements to ensure all details of the technical implementation are understood.\n",
    "\n",
    "## 2. Requirements\n",
    "\n",
    "### 2.1 Req. A18\n",
    "\n",
    "#### 2.1.1 Context\n",
    "Requirement A18 is an Address Requirement with the following details (from the _QSI Cadastre Address Requirements_ list):\n",
    "\n",
    "**ID** | **Statement** | **Relevant Model Elements** | **Canonical Examples** | **Scenario Demonstrator**\n",
    "--- | --- | --- | --- | ---\n",
    "A18 | Ideally entities as address components that are maintained elsewhere e.g. locality (and Local Government Area even though this isn't part of an official address string) should be linked to rather than repeated in the addressing database. | Address Model Shapes sh-01, sh-02, Overarching Model, a18 | A18-v01, A18-i01, A18-i02 | Notebook SD01, EG01\n",
    "\n",
    "This Requirement requires two models to be satisfied:\n",
    "\n",
    "1. [Address Model](https://nicholascar.com/anz-nat-addr-model-candidate/model.html) - to ensure an Address object has the properties required\n",
    "2. QLI Supermodel's [Overarching Model](https://nicholascar.com/qli-supermodel/supermodel.html#_overarching_model) - since the \"...entities...maintained elsewhere e.g. locality...\" are objects for which there is no Component Model but for which the Overarching Model has a generic slot\n",
    "\n",
    "The Address Model contains an `Address` class and a property for it to indicate `AddressComponent` class instances which is `hasAddressComponent`. `AddressComponent` objects then contain a `hasComponentType`, a `hasValue`  and `hasValueText` properties, see the [`AddressComponent` class documentation](https://nicholascar.com/anz-nat-addr-model-candidate/model.html#AddressComponent).\n",
    "\n",
    "The Overarching Model contains an `AdministrativeArea` class which will be what the Supermodel considers Localities and other such entities to be. Instances of this class will have identifiers and their class will be defined.\n",
    "\n",
    "#### 2.1.2 Demonstration Method\n",
    "\n",
    "Can data be formulated according to the various models, some of which is and some of which is not valid according Requirement A18? Are such datum able to be tested to prove validity or invalidity?\n",
    "\n",
    "The Address Model's [validator](http://w3id.org/profile/anz-address/validator) ([also stored locally](https://github.com/nicholascar/qsi-sd-canonical/blob/master/validators/addr.shacl.ttl)) has 2 relevant Shapes, `sh-01`, `sh-02` and the Overarching Model's [validator]() ([also stored locally](https://github.com/nicholascar/qsi-sd-canonical/blob/master/validators/qsi-over.shacl.ttl)) has one `a18`, all of which are , listed in the Requirements details table above.\n",
    "\n",
    "Shape `sh-02`, as an example of a Shape, is as follows:\n",
    "\n",
    "```turtle\n",
    "<sh-02>\n",
    "\ta sh:NodeShape ;\n",
    "\tsh:targetObjectsOf addr:hasAddressComponent ; # addr:AddressComponent instances\n",
    "\tsh:sparql [\n",
    "\t\ta sh:SPARQLConstraint ;\n",
    "\t\tsh:message \"The hasValue property of an AddressComponent with addressComponentType isov1:locality must indicate an IRI (of a Concept from a vocabulary), not text\" ;\n",
    "\t\tsh:prefixes addr: ;\n",
    "\t\tsh:select \"\"\"\n",
    "\t\t\tSELECT $this ?value\n",
    "\t\t\tWHERE {\n",
    "                $this addr:hasComponentType isov1:locality .\n",
    "                $this addr:hasValue ?value .\n",
    "                FILTER (!isIRI(?value))\n",
    "\t\t\t}\n",
    "\t\t\t\"\"\" ;\n",
    "\t] ;\n",
    ".\n",
    "```\n",
    "\n",
    "This Shape checks that each instance of `AddressComponent` that is of type `locality` (according to [an extended version of ISO's Address Component Types Vocabulary](https://nicholascar.com/anz-nat-addr-model-candidate/model.html#_address_component_type_vocabulary)) has a value that is an IRI - a web address - and not a numerical or textual value.\n",
    "\n",
    "Separately to this validator, a mapping between validator Shapes and Requirements is maintained within [the QLI Supermodel's listing of Requirements](https://nicholascar.com/qli-supermodel/requirements.html#_model_mappings)\n",
    "\n",
    "Canonical Examples of system-independent data that do and do not conform to this Shape are presented within this Scenario Demonstrator and also indicated in A18's details in the table above. The example files are:\n",
    "\n",
    "* [A18-01-v.ttl](https://github.com/nicholascar/qsi-sd-canonical/blob/master/canonical-examples/A18-01-v.ttl) - valid example 01\n",
    "* [A18-02-i.ttl](https://github.com/nicholascar/qsi-sd-canonical/blob/master/canonical-examples/A18-01-v.ttl) - invalid example 02\n",
    "\n",
    "Just for this example, the data for `A18-01-v.ttl` can be display be executing the following:"
   ]
  },
  {
   "cell_type": "code",
   "execution_count": null,
   "outputs": [],
   "source": [
    "from rdflib import Graph\n",
    "g = Graph().parse(\"canonical-examples/A18-01-v.ttl\")\n",
    "print(g.serialize())"
   ],
   "metadata": {
    "collapsed": false,
    "pycharm": {
     "name": "#%%\n"
    }
   }
  },
  {
   "cell_type": "markdown",
   "source": [
    "_Note the components \"20\", \"Oxford\", \"Place\" & example LGA `<http://example.com/lga/1234>`_\n",
    "\n",
    "#### 2.1.2 Demonstration Steps\n",
    "\n",
    "##### 1. Validate 01 - expect True"
   ],
   "metadata": {
    "collapsed": false
   }
  },
  {
   "cell_type": "code",
   "execution_count": 41,
   "outputs": [
    {
     "name": "stdout",
     "output_type": "stream",
     "text": [
      "A18-01-v is valid, as expected\n"
     ]
    }
   ],
   "source": [
    "from pyshacl import validate\n",
    "\n",
    "v1 = validate(\"canonical-examples/A18-01-v.ttl\", shacl_graph=\"validators/addr.shacl.ttl\", inference=\"rdfs\")\n",
    "\n",
    "if v1[0]:\n",
    "    print(\"A18-01-v is valid, as expected\")\n",
    "else:\n",
    "    print(\"ERROR: A18-01-v is unexpectedly invalid\")"
   ],
   "metadata": {
    "collapsed": false,
    "pycharm": {
     "name": "#%%\n"
    }
   }
  },
  {
   "cell_type": "markdown",
   "source": [
    "##### 2. Validate 02 - expect False"
   ],
   "metadata": {
    "collapsed": false
   }
  },
  {
   "cell_type": "code",
   "execution_count": 45,
   "outputs": [
    {
     "name": "stdout",
     "output_type": "stream",
     "text": [
      "A18-02-i is invalid, as expected\n",
      "The error message from the validator is:\n",
      "\n",
      "Validation Report\n",
      "Conforms: False\n",
      "Results (2):\n",
      "Constraint Violation in SPARQLConstraintComponent (http://www.w3.org/ns/shacl#SPARQLConstraintComponent):\n",
      "\tSeverity: sh:Violation\n",
      "\tSource Shape: <http://w3id.org/profile/anz-address/validator/sh-02>\n",
      "\tFocus Node: [ addr:hasComponentType isov1:locality ; addr:hasValue Literal(\"Shorncliffe\") ]\n",
      "\tValue Node: Literal(\"Shorncliffe\")\n",
      "\tSource Constraint: [ rdf:type sh:SPARQLConstraint ; sh:message Literal(\"The hasValue property of an AddressComponent with addressComponentType isov1:locality must indicate an IRI (of a Concept from a vocabulary), not text\") ; sh:prefixes <http://w3id.org/profile/anz-address/>, <https://w3id.org/profile/qsi-supermodel/> ; sh:select Literal(\"\n",
      "\t\t\tSELECT $this ?value\n",
      "\t\t\tWHERE {\n",
      "\t\t\t    {\n",
      "                    $this addr:hasComponentType isov1:locality .\n",
      "                    $this addr:hasValue ?value .\n",
      "                    FILTER (!isIRI(?value))\n",
      "\t\t\t    }\n",
      "\t\t\t    UNION\n",
      "\t\t\t    {\n",
      "                    $this addr:hasComponentType isov1:state .\n",
      "                    $this addr:hasValue ?value .\n",
      "                    FILTER (!isIRI(?value))\n",
      "\t\t\t    }\n",
      "\t\t\t}\n",
      "\t\t\t\") ]\n",
      "\tMessage: The hasValue property of an AddressComponent with addressComponentType isov1:locality must indicate an IRI (of a Concept from a vocabulary), not text\n",
      "Constraint Violation in MinCountConstraintComponent (http://www.w3.org/ns/shacl#MinCountConstraintComponent):\n",
      "\tSeverity: sh:Violation\n",
      "\tSource Shape: [ rdf:type sh:PropertyShape ; sh:maxCount Literal(\"1\", datatype=xsd:integer) ; sh:message Literal(\"Address Components' types must be indicated by an IRI (of a Concept from a vocabulary)\") ; sh:minCount Literal(\"1\", datatype=xsd:integer) ; sh:nodeKind sh:IRI ; sh:path addr:hasComponentType ]\n",
      "\tFocus Node: [ addr:hasValue Literal(\"Oxford\") ]\n",
      "\tResult Path: addr:hasComponentType\n",
      "\tMessage: Address Components' types must be indicated by an IRI (of a Concept from a vocabulary)\n",
      "\n"
     ]
    }
   ],
   "source": [
    "from pyshacl import validate\n",
    "\n",
    "v2 = validate(\"canonical-examples/A18-02-i.ttl\", shacl_graph=\"validators/addr.shacl.ttl\")\n",
    "\n",
    "if not v2[0]:\n",
    "    print(\"A18-02-i is invalid, as expected\")\n",
    "    print(\"The error message from the validator is:\")\n",
    "    print()\n",
    "    print(v2[2])\n",
    "else:\n",
    "    print(\"ERROR: A18-02-i is unexpectedly valid\")"
   ],
   "metadata": {
    "collapsed": false,
    "pycharm": {
     "name": "#%%\n"
    }
   }
  },
  {
   "cell_type": "markdown",
   "source": [
    "An inspection of the validation error above allows you to work out which `AddressComponent` object is the invalid one (there are 2!).\n",
    "\n",
    "##### 3. Query 01\n",
    "\n",
    "Here we query the valid example, 01, to assemble a printable address from the Address Components. This isn't necessary for Requirement A18 but shows SPARQL queries in action agains Canonical Example data."
   ],
   "metadata": {
    "collapsed": false,
    "pycharm": {
     "name": "#%% md\n"
    }
   }
  },
  {
   "cell_type": "code",
   "execution_count": 40,
   "outputs": [
    {
     "name": "stdout",
     "output_type": "stream",
     "text": [
      "\n",
      "20 Oxford Place\n",
      "Shorncliffe, Queensland\n",
      "4017\n",
      "\n"
     ]
    }
   ],
   "source": [
    "from rdflib import Graph\n",
    "g = Graph().parse(\"canonical-examples/A18-01-v.ttl\")\n",
    "q = \"\"\"\n",
    "    PREFIX addr: <http://w3id.org/profile/anz-address/>\n",
    "\n",
    "    SELECT ?ct ?v\n",
    "    WHERE {\n",
    "        ?a addr:hasAddressComponent ?ac .\n",
    "        ?ac addr:hasComponentType ?ct .\n",
    "        ?ac addr:hasValue ?hv .\n",
    "\n",
    "        OPTIONAL {\n",
    "            ?ac addr:hasValueText ?htv .\n",
    "        }\n",
    "\n",
    "        BIND (COALESCE(?htv, ?hv) AS ?v)\n",
    "    }\n",
    "\"\"\"\n",
    "COMP = \"http://def.isotc211.org/iso19160/-1/2015/Address/code/AddressComponentType/\"\n",
    "components = {}\n",
    "for r in g.query(q):\n",
    "    components[str(r[\"ct\"].replace(COMP, \"\"))] = str(r[\"v\"])\n",
    "\n",
    "print(f\"\"\"\n",
    "{components[\"streetNumber\"]} {components[\"thoroughfareName\"]} {components[\"thoroughfareType\"]}\n",
    "{components[\"locality\"]}, {components[\"state\"]}\n",
    "{components[\"postcode\"]}\n",
    "\"\"\")"
   ],
   "metadata": {
    "collapsed": false,
    "pycharm": {
     "name": "#%%\n"
    }
   }
  },
  {
   "cell_type": "markdown",
   "source": [
    "### 2.1 Req. xxx\n",
    "\n",
    "**ID** | **Statement** | **Relevant Model Elements** | **Canonical Examples** | **Scenario Demonstrator**\n",
    "--- | --- | --- | --- | ---\n",
    "? | ? | ? | ? | ?\n"
   ],
   "metadata": {
    "collapsed": false,
    "pycharm": {
     "name": "#%% md\n"
    }
   }
  }
 ],
 "metadata": {
  "kernelspec": {
   "display_name": "Python 3 (ipykernel)",
   "language": "python",
   "name": "python3"
  },
  "language_info": {
   "codemirror_mode": {
    "name": "ipython",
    "version": 3
   },
   "file_extension": ".py",
   "mimetype": "text/x-python",
   "name": "python",
   "nbconvert_exporter": "python",
   "pygments_lexer": "ipython3",
   "version": "3.9.10"
  }
 },
 "nbformat": 4,
 "nbformat_minor": 1
}