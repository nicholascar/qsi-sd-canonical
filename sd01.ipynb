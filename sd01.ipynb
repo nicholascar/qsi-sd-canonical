{
 "cells": [
  {
   "cell_type": "markdown",
   "metadata": {},
   "source": [
    "# Queensland Spatial Information Canonical Examples Scenario Demonstrator\n",
    "## For the [FrontierSI](https://frontiersi.com.au) Queensland Land Information Project\n",
    "### By Nicholas J. Car\n",
    "\n",
    "## Introduction\n",
    "\n",
    "This Workbook contains Requirements from the _QSI Cadastre Address Requirements_ list of requirements and _canonical example_ data files that show the handing of the Requirements by the models being implemented as part of the [Queensland Land Information Supermodel](https://nicholascar.com/qli-supermodel/supermodel.html).\n",
    "\n",
    "The goal of this Scenario Demonstrator is not to implement Canonical Examples and tests for all Requirements but just enough to indicate the likely viability of the models versus Requirements.\n",
    "\n",
    "### Initial Requirement\n",
    "\n",
    "The first Requirement demonstrated here, A18, is explained in more detail than subsequent Requirements to ensure all details of the technical implementation are understood.\n",
    "\n",
    "## Requirements\n",
    "\n",
    "### Req. A18\n",
    "\n",
    "#### Context\n",
    "Requirement A18 is an Address Requirement with the following details (from the _QSI Cadastre Address Requirements_ list):\n",
    "\n",
    "**ID** | **Statement** | **Relevant Model Elements** | **Canonical Examples** | **Scenario Demonstrator**\n",
    "--- | --- | --- | --- | ---\n",
    "A18 | Ideally entities as address components that are maintained elsewhere e.g. locality (and Local Government Area even though this isn't part of an official address string) should be linked to rather than repeated in the addressing database. | Address Model, Overarching Model | R18-v01, R18-i01, R18-i02 | Notebook SD01, EG01\n",
    "\n",
    "This Requirement requires two models to be satisfied:\n",
    "\n",
    "1. [Address Model](https://nicholascar.com/anz-nat-addr-model-candidate/model.html) - to ensure an Address object has the properties required\n",
    "2. QLI Supermodel's [Overarching Model](https://nicholascar.com/qli-supermodel/supermodel.html#_overarching_model) - since the \"...entities...maintained elsewhere e.g. locality...\" are objects for which there is no Supermodel Component Model but for which the Overarching Model has a generic slot\n",
    "\n",
    "By exercising a link between the Address Model and the Administrative Areas model, this example also implicitly relies on the Overarching Model of the Supermodel, but this is a background concern and not specifically called out here.\n",
    "\n",
    "The Address Model contains an `Address` class and a property for it to indicate `AddressComponent` class instances which is `hasAddressComponent`. `AddressComponent` objects then contain a `hasComponentType`, a `hasValue`  and `hasValueText` properties, see the [`AddressComponent` class documentation](https://nicholascar.com/anz-nat-addr-model-candidate/model.html#AddressComponent).\n",
    "\n",
    "The Overarching Model contains an `AdministrativeArea` class which will be what the Supermodel considers Localities and other such entities to be. Instances of this class will have identifiers that are IRIs - data web addresses.\n",
    "\n",
    "#### Demonstration Method\n",
    "\n",
    "Can data be formulated according to the various models, some of is does and some of which is valid according Requirement A18? Are such datum able to be tested to prove validity or invalidity?\n",
    "\n",
    "The Address Model [has a validator](http://w3id.org/profile/anz-address/validator) which has a validation Shape, that is a graph data test function, that can demonstrate that the model meets this Requirement:\n",
    "\n",
    "```turtle\n",
    "<sh-02>\n",
    "\ta sh:NodeShape ;\n",
    "\tsh:targetObjectsOf addr:hasAddressComponent ; # addr:AddressComponent instances\n",
    "\tsh:sparql [\n",
    "\t\ta sh:SPARQLConstraint ;\n",
    "\t\tsh:message \"The hasValue property of an AddressComponent with addressComponentType isov1:locality must indicate an IRI (of a Concept from a vocabulary), not text\" ;\n",
    "\t\tsh:prefixes addr: ;\n",
    "\t\tsh:select \"\"\"\n",
    "\t\t\tSELECT $this ?value\n",
    "\t\t\tWHERE {\n",
    "                $this addr:hasComponentType isov1:locality .\n",
    "                $this addr:hasValue ?value .\n",
    "                FILTER (!isIRI(?value))\n",
    "\t\t\t}\n",
    "\t\t\t\"\"\" ;\n",
    "\t] ;\n",
    ".\n",
    "```\n",
    "\n",
    "This Shape checks that each instance of `AddressComponent` that is of type `locality` (according to [an extended version of ISO's Address Component Types Vocabulary](https://nicholascar.com/anz-nat-addr-model-candidate/model.html#_address_component_type_vocabulary)) has a value that is an IRI - a web address - and not a numerical or textual value.\n",
    "\n",
    "Separately to this validator, a mapping between validator Shapes and Requirements is maintained within [the QLI Supermodel's listing of Requirements](https://nicholascar.com/qli-supermodel/requirements.html#_model_mappings)\n",
    "\n",
    "Canonical Examples of system-independent data that does and does not conform to this Shape are presented within this Scenario Demonstrator:\n",
    "\n",
    "* A18-01-v.ttl - valid example 01\n",
    "* A18-02-i.ttl - invalid example 02\n",
    "\n",
    "The graph validation tool [pySHAC](https://github.com/RDFLib/pySHACL) can be run using the Address Model validator and each example as input and the results should be valid (01) and invalid (02) as expected.\n",
    "\n",
    "#### Demonstration Steps"
   ]
  },
  {
   "cell_type": "code",
   "execution_count": null,
   "metadata": {
    "pycharm": {
     "name": "#%%\n"
    }
   },
   "outputs": [],
   "source": [
    "# 1. load pySHACL\n",
    "from pyshacl import validate\n",
    "\n",
    "# 2. validate 01 - expect True\n",
    "v1 = validate(\"canonical-examples/A18-01-v.ttl\", shacl_graph=\"validators/addr.shacl.ttl\")\n",
    "\n",
    "if v1[0]:\n",
    "    print(\"A18-01-v is valid, as expected\")\n",
    "else:\n",
    "    print(\"ERROR: A18-01-v is unexpectedly invalid\")"
   ]
  },
  {
   "cell_type": "code",
   "execution_count": null,
   "outputs": [],
   "source": [
    "# 3. validate 02 - expect False\n",
    "v2 = validate(\"canonical-examples/A18-02-i.ttl\", shacl_graph=\"validators/addr.shacl.ttl\")\n",
    "\n",
    "if not v2[0]:\n",
    "    print(\"A18-02-i is invalid, as expected\")\n",
    "    print(\"The error message from the validator is:\")\n",
    "    print()\n",
    "    print(v2[2])\n",
    "else:\n",
    "    print(\"ERROR: A18-02-i is unexpectedly valid\")"
   ],
   "metadata": {
    "collapsed": false,
    "pycharm": {
     "name": "#%%\n"
    }
   }
  },
  {
   "cell_type": "markdown",
   "source": [],
   "metadata": {
    "collapsed": false,
    "pycharm": {
     "name": "#%% md\n"
    }
   }
  }
 ],
 "metadata": {
  "kernelspec": {
   "display_name": "Python 3 (ipykernel)",
   "language": "python",
   "name": "python3"
  },
  "language_info": {
   "codemirror_mode": {
    "name": "ipython",
    "version": 3
   },
   "file_extension": ".py",
   "mimetype": "text/x-python",
   "name": "python",
   "nbconvert_exporter": "python",
   "pygments_lexer": "ipython3",
   "version": "3.9.10"
  }
 },
 "nbformat": 4,
 "nbformat_minor": 1
}